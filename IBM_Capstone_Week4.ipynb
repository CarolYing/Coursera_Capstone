{
 "cells": [
  {
   "cell_type": "markdown",
   "metadata": {},
   "source": [
    "# Where to live in San Francisco?"
   ]
  },
  {
   "cell_type": "markdown",
   "metadata": {},
   "source": [
    "## INTRODUCTION"
   ]
  },
  {
   "cell_type": "markdown",
   "metadata": {},
   "source": [
    "Living and working in San Francisco is a dream for a lot of young people and new grads, including me, not only because of the booming job opportunities, but also the cultural inclusiveness. Here comes to my question, __what is the best neighborhood to live in SF__? My audience are the young people/couples who have decent jobs in Bay area. What they consider the most are first fun places and good restaurants to hang out, second, the safety. "
   ]
  },
  {
   "cell_type": "markdown",
   "metadata": {},
   "source": [
    "## DATA DESCRIPTION"
   ]
  },
  {
   "cell_type": "markdown",
   "metadata": {},
   "source": [
    "I will use the following data sets:\n",
    "- A file named San_Francisco_Analysis_Neighborhood.csv downloaded from https://data.sfgov.org/Geographic-Locations-and-Boundaries/Analysis-Neighborhoods/p5b7-5n3h\n",
    "    - This file will give me the list of neighborhoods in San Francisco.\n",
    "- Foursquare location data\n",
    "    - I can find the latitudes and longtitudes of each neighborhood.\n",
    "    - I can get the venues of each neighborhood.\n",
    "- A file named Police_Department_Incidents_-_Previous_Year__2016.csv provided in IBM_Applied Data Science Capstone course Week_2\n",
    "    - By maping the data, I can get a general idea of the crime rate of each neighborhood."
   ]
  },
  {
   "cell_type": "code",
   "execution_count": null,
   "metadata": {},
   "outputs": [],
   "source": []
  }
 ],
 "metadata": {
  "kernelspec": {
   "display_name": "Python 3",
   "language": "python",
   "name": "python3"
  },
  "language_info": {
   "codemirror_mode": {
    "name": "ipython",
    "version": 3
   },
   "file_extension": ".py",
   "mimetype": "text/x-python",
   "name": "python",
   "nbconvert_exporter": "python",
   "pygments_lexer": "ipython3",
   "version": "3.7.6"
  }
 },
 "nbformat": 4,
 "nbformat_minor": 4
}
